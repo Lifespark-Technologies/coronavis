{
 "cells": [
  {
   "cell_type": "code",
   "execution_count": 1,
   "metadata": {},
   "outputs": [],
   "source": [
    "import numpy as np\n",
    "import pandas as pd\n",
    "import psycopg2 as pg\n",
    "import datetime\n",
    "import requests"
   ]
  },
  {
   "cell_type": "code",
   "execution_count": 2,
   "metadata": {},
   "outputs": [],
   "source": [
    "def get_connection():\n",
    "    conn = pg.connect(\"host=db.dbvis.de dbname=coronadb user=corona password=***REMOVED***\")\n",
    "    cur = conn.cursor()\n",
    "    return conn, cur"
   ]
  },
  {
   "cell_type": "markdown",
   "metadata": {},
   "source": [
    "# Retrieve"
   ]
  },
  {
   "cell_type": "code",
   "execution_count": 5,
   "metadata": {},
   "outputs": [],
   "source": [
    "URL = \"https://services7.arcgis.com/mOBPykOjAyBO2ZKk/arcgis/rest/services/RKI_COVID19/FeatureServer/0/query?f=json&where=1%3D1&returnGeometry=false&spatialRel=esriSpatialRelIntersects&outFields=*&orderByFields=Meldedatum%20asc&resultOffset={}&resultRecordCount=2000&cacheHint=true\""
   ]
  },
  {
   "cell_type": "code",
   "execution_count": 14,
   "metadata": {},
   "outputs": [
    {
     "name": "stdout",
     "output_type": "stream",
     "text": [
      "2000\n",
      "4000\n",
      "6000\n",
      "8000\n",
      "10000\n",
      "12000\n",
      "14000\n"
     ]
    }
   ],
   "source": [
    "data = None\n",
    "has_data = True\n",
    "offset = 0\n",
    "\n",
    "while has_data:\n",
    "    r = requests.get(URL.format(offset))\n",
    "    rj = r.json()\n",
    "    if data is None:\n",
    "        data = rj\n",
    "    else:\n",
    "        data['features'].extend(rj['features'])\n",
    "        if len(rj['features']) == 0:\n",
    "            has_data = False\n",
    "    offset += 2000\n",
    "    print(offset)\n",
    "data = [d['attributes'] for d in data['features']]"
   ]
  },
  {
   "cell_type": "markdown",
   "metadata": {},
   "source": [
    "# Parse"
   ]
  },
  {
   "cell_type": "code",
   "execution_count": 15,
   "metadata": {},
   "outputs": [],
   "source": [
    "entries = []\n",
    "for el in data:\n",
    "    cc = ['case' for i in range(el['AnzahlFall'])]\n",
    "    cc.extend(['death' for i in range(el['AnzahlTodesfall'])])\n",
    "    entry = [{\n",
    "    'datenbestand': datetime.datetime.strptime(el['Datenstand'], '%d.%m.%Y %H:%M'),\n",
    "    'idbundesland': el['IdBundesland'],\n",
    "    'bundesland': el['Bundesland'],\n",
    "    'landkreis': el['Landkreis'],\n",
    "    'idlandkreis': el['IdLandkreis'],\n",
    "    'objectid': el['ObjectId'],\n",
    "    'meldedatum': datetime.datetime.utcfromtimestamp(el['Meldedatum'] / 1000),\n",
    "    'gender': el['Geschlecht'],\n",
    "    'agegroup': el['Altersgruppe'],\n",
    "    'casetype': casetype\n",
    "    } for casetype in cc]\n",
    "    entries.extend(entry)"
   ]
  },
  {
   "cell_type": "code",
   "execution_count": 16,
   "metadata": {},
   "outputs": [
    {
     "data": {
      "text/plain": [
       "22758"
      ]
     },
     "execution_count": 16,
     "metadata": {},
     "output_type": "execute_result"
    }
   ],
   "source": [
    "len(entries)"
   ]
  },
  {
   "cell_type": "code",
   "execution_count": 17,
   "metadata": {},
   "outputs": [],
   "source": [
    "aquery = 'INSERT INTO cases(datenbestand, idbundesland, bundesland, landkreis, idlandkreis, objectid, meldedatum, gender, agegroup, casetype) VALUES(%(datenbestand)s, %(idbundesland)s, %(bundesland)s, %(landkreis)s, %(idlandkreis)s, %(objectid)s, %(meldedatum)s, %(gender)s, %(agegroup)s, %(casetype)s)'  "
   ]
  },
  {
   "cell_type": "code",
   "execution_count": null,
   "metadata": {},
   "outputs": [],
   "source": [
    "conn, cur = get_connection()\n",
    "cur.executemany(aquery, entries)\n",
    "conn.commit()"
   ]
  },
  {
   "cell_type": "code",
   "execution_count": null,
   "metadata": {},
   "outputs": [],
   "source": []
  }
 ],
 "metadata": {
  "kernelspec": {
   "display_name": "Python 3",
   "language": "python",
   "name": "python3"
  },
  "language_info": {
   "codemirror_mode": {
    "name": "ipython",
    "version": 3
   },
   "file_extension": ".py",
   "mimetype": "text/x-python",
   "name": "python",
   "nbconvert_exporter": "python",
   "pygments_lexer": "ipython3",
   "version": "3.7.4"
  }
 },
 "nbformat": 4,
 "nbformat_minor": 2
}
